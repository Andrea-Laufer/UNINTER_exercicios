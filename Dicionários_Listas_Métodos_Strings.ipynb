{
  "nbformat": 4,
  "nbformat_minor": 0,
  "metadata": {
    "colab": {
      "provenance": [],
      "authorship_tag": "ABX9TyO7v4kaxLmxzB0okoaat3Ru",
      "include_colab_link": true
    },
    "kernelspec": {
      "name": "python3",
      "display_name": "Python 3"
    },
    "language_info": {
      "name": "python"
    }
  },
  "cells": [
    {
      "cell_type": "markdown",
      "metadata": {
        "id": "view-in-github",
        "colab_type": "text"
      },
      "source": [
        "<a href=\"https://colab.research.google.com/github/Andrea-Laufer/UNINTER_exercicios/blob/main/Dicion%C3%A1rios_Listas_M%C3%A9todos_Strings.ipynb\" target=\"_parent\"><img src=\"https://colab.research.google.com/assets/colab-badge.svg\" alt=\"Open In Colab\"/></a>"
      ]
    },
    {
      "cell_type": "markdown",
      "source": [
        "1. Dicionários"
      ],
      "metadata": {
        "id": "MGqQhOCUys7j"
      }
    },
    {
      "cell_type": "code",
      "execution_count": 1,
      "metadata": {
        "colab": {
          "base_uri": "https://localhost:8080/"
        },
        "id": "9WbFP43zyRFi",
        "outputId": "02327cc0-97ad-452f-ab60-8d3ca501a5e9"
      },
      "outputs": [
        {
          "output_type": "stream",
          "name": "stdout",
          "text": [
            "('Caneta', 'Papel', 'Régua', 'Borracha')\n",
            "['Caneta', 'Papel', 'Régua', 'Borracha']\n",
            "{'Caneta': 1, 'Papel': 2, 'Régua': 3, 'Borracha': 4}\n"
          ]
        }
      ],
      "source": [
        "mochila = ('Caneta', 'Papel', 'Régua', 'Borracha') # tupla\n",
        "print(mochila)\n",
        "\n",
        "mochila = ['Caneta', 'Papel', 'Régua', 'Borracha'] # lista\n",
        "print(mochila)\n",
        "\n",
        "mochila = {'Caneta':1, 'Papel':2, 'Régua':3, 'Borracha':4} # dicionário\n",
        "print(mochila)\n"
      ]
    },
    {
      "cell_type": "code",
      "source": [
        "game = {'Nome': 'Death Stranding', 'Desenvolver': 'Kojima', 'Ano': '2019'}\n",
        "print(game)\n",
        "\n",
        "print(game['Nome'])\n",
        "print(game['Desenvolver'])\n",
        "print(game['Ano'])"
      ],
      "metadata": {
        "colab": {
          "base_uri": "https://localhost:8080/"
        },
        "id": "a9g5NmVWziBF",
        "outputId": "8c133325-a0ff-47f4-856d-ac895fb3d255"
      },
      "execution_count": 5,
      "outputs": [
        {
          "output_type": "stream",
          "name": "stdout",
          "text": [
            "{'Nome': 'Death Stranding', 'Desenvolver': 'Kojima', 'Ano': '2019'}\n",
            "Death Stranding\n",
            "Kojima\n",
            "2019\n"
          ]
        }
      ]
    },
    {
      "cell_type": "code",
      "source": [
        "# Métodos para Dicionários\n",
        "\n",
        "print(game.keys())\n",
        "print(game.values())\n",
        "print(game.items())"
      ],
      "metadata": {
        "colab": {
          "base_uri": "https://localhost:8080/"
        },
        "id": "g9tFJVJ10lTG",
        "outputId": "a906b259-e8db-420d-c271-3930b49070c1"
      },
      "execution_count": 6,
      "outputs": [
        {
          "output_type": "stream",
          "name": "stdout",
          "text": [
            "dict_keys(['Nome', 'Desenvolver', 'Ano'])\n",
            "dict_values(['Death Stranding', 'Kojima', '2019'])\n",
            "dict_items([('Nome', 'Death Stranding'), ('Desenvolver', 'Kojima'), ('Ano', '2019')])\n"
          ]
        }
      ]
    },
    {
      "cell_type": "markdown",
      "source": [
        "2. Dicionários e Listas"
      ],
      "metadata": {
        "id": "dK_IkpBQ1HR4"
      }
    },
    {
      "cell_type": "code",
      "source": [
        "# Lista de Jogos\n",
        "\n",
        "game = []\n",
        "\n",
        "game1 = {'Nome': 'Death Stranding', 'Desenvolver': 'Kojima', 'Ano': '2019'}\n",
        "game2 = {'Nome': 'The Last of Us', 'Desenvolver': 'Naughty Dog', 'Ano': '2013'}\n",
        "game3 = {'Nome': 'God of War', 'Desenvolver': 'Santa Monica', 'Ano': '2018'}\n",
        "\n",
        "game = [game1, game2, game3]\n",
        "\n",
        "print(game)\n",
        "\n"
      ],
      "metadata": {
        "colab": {
          "base_uri": "https://localhost:8080/"
        },
        "id": "TUb8jWdv0s0d",
        "outputId": "c9bcb0ff-328e-4e91-9d28-939bfab4a9fe"
      },
      "execution_count": 10,
      "outputs": [
        {
          "output_type": "stream",
          "name": "stdout",
          "text": [
            "[{'Nome': 'Death Stranding', 'Desenvolver': 'Kojima', 'Ano': '2019'}, {'Nome': 'The Last of Us', 'Desenvolver': 'Naughty Dog', 'Ano': '2013'}, {'Nome': 'God of War', 'Desenvolver': 'Santa Monica', 'Ano': '2018'}]\n"
          ]
        }
      ]
    },
    {
      "cell_type": "code",
      "source": [
        "game = {}\n",
        "games = []\n",
        "\n",
        "for i in range(3):\n",
        "    game['Nome'] = input('Nome do Jogo: ')\n",
        "    game['Desenvolver'] = input('Desenvolvedora: ')\n",
        "    game['Ano'] = input('Ano de Lançamento: ')\n",
        "    games.append(game.copy())\n",
        "print('---' * 20)\n",
        "\n",
        "for jogos in games:\n",
        "    for chave, valor in jogos.items():\n",
        "        print(f'{chave}: {valor}')\n",
        "    print('---' * 20)"
      ],
      "metadata": {
        "colab": {
          "base_uri": "https://localhost:8080/"
        },
        "id": "RIiZPmwM1q_u",
        "outputId": "f1ff8538-6336-408e-acd8-30662d22afbb"
      },
      "execution_count": 11,
      "outputs": [
        {
          "output_type": "stream",
          "name": "stdout",
          "text": [
            "Nome do Jogo: Death Stranding\n",
            "Desenvolvedora: Kojima\n",
            "Ano de Lançamento: 2019\n",
            "Nome do Jogo: Death Stranding 2\n",
            "Desenvolvedora: Kojima\n",
            "Ano de Lançamento: 2025\n",
            "Nome do Jogo: Assassin´s Creed Mirage\n",
            "Desenvolvedora: Ubsoft\n",
            "Ano de Lançamento: 2024\n",
            "------------------------------------------------------------\n",
            "Nome: Death Stranding\n",
            "Desenvolver: Kojima\n",
            "Ano: 2019\n",
            "------------------------------------------------------------\n",
            "Nome: Death Stranding 2\n",
            "Desenvolver: Kojima\n",
            "Ano: 2025\n",
            "------------------------------------------------------------\n",
            "Nome: Assassin´s Creed Mirage\n",
            "Desenvolver: Ubsoft\n",
            "Ano: 2024\n",
            "------------------------------------------------------------\n"
          ]
        }
      ]
    },
    {
      "cell_type": "code",
      "source": [
        "# Dicionários com vários elementos na mesma lista\n",
        "\n",
        "games = {'Nome:': ['Death Stranding', 'Death Stranding 2', 'Mirage'], 'Desenvolvedor:' : ['Kojima', 'Kojima', 'Santa Monica'], 'Ano:': ['2019', '2020', '2021']}\n",
        "print(games)\n"
      ],
      "metadata": {
        "colab": {
          "base_uri": "https://localhost:8080/"
        },
        "id": "ZeFZC5Gl3Dfn",
        "outputId": "2b1c399c-27b9-463d-b22e-3af263a3b128"
      },
      "execution_count": 12,
      "outputs": [
        {
          "output_type": "stream",
          "name": "stdout",
          "text": [
            "{'Nome:': ['Death Stranding', 'Death Stranding 2', 'Mirage'], 'Desenvolvedor:': ['Kojima', 'Kojima', 'Santa Monica'], 'Ano:': ['2019', '2020', '2021']}\n"
          ]
        }
      ]
    },
    {
      "cell_type": "code",
      "source": [
        "games = {'Nome': [], 'Desenvolvedor': [], 'Ano': []}\n",
        "\n",
        "for i in range(3):\n",
        "  Nome = input('Nome do Jogo: ')\n",
        "  Desenvolvedor = input('Desenvolvedor: ')\n",
        "  Ano = input('Ano de Lançamento: ')\n",
        "  games['Nome'].append(Nome)\n",
        "  games['Desenvolvedor'].append(Desenvolvedor)\n",
        "  games['Ano'].append(Ano)\n",
        "\n",
        "print('---' * 20)\n",
        "print(games)\n"
      ],
      "metadata": {
        "colab": {
          "base_uri": "https://localhost:8080/"
        },
        "id": "O8QgmUvI3vwW",
        "outputId": "dcb1a5a8-bd95-4dd6-ba3e-c557a9c45bb2"
      },
      "execution_count": 13,
      "outputs": [
        {
          "output_type": "stream",
          "name": "stdout",
          "text": [
            "Nome do Jogo: Death Stranding\n",
            "Desenvolvedor: Kojima\n",
            "Ano de Lançamento: \n",
            "Nome do Jogo: Death Stranding 2\n",
            "Desenvolvedor: Kojima\n",
            "Ano de Lançamento: 2025\n",
            "Nome do Jogo: Mirage\n",
            "Desenvolvedor: Ubsoft\n",
            "Ano de Lançamento: 2024\n",
            "------------------------------------------------------------\n",
            "{'Nome': ['Death Stranding', 'Death Stranding 2', 'Mirage'], 'Desenvolvedor': ['Kojima', 'Kojima', 'Ubsoft'], 'Ano': ['', '2025', '2024']}\n"
          ]
        }
      ]
    },
    {
      "cell_type": "markdown",
      "source": [
        "3. Métodos e Strings\n"
      ],
      "metadata": {
        "id": "ZDkwqjTH8gYk"
      }
    },
    {
      "cell_type": "code",
      "source": [
        "s1 = 'Algoritmos' #string\n",
        "\n",
        "#agora transformar em lista para mexer pois strings são imutáveis\n",
        "\n",
        "s1 = list('Algoritmos') #itens separados para print\n",
        "print(s1)\n",
        "print(''. join(s1)) #junta novamente\n"
      ],
      "metadata": {
        "colab": {
          "base_uri": "https://localhost:8080/"
        },
        "id": "L9Y8aUl-8kUD",
        "outputId": "72c2b36c-cf82-4ef9-a5ad-f289f12e9739"
      },
      "execution_count": 25,
      "outputs": [
        {
          "output_type": "stream",
          "name": "stdout",
          "text": [
            "['A', 'l', 'g', 'o', 'r', 'i', 't', 'm', 'o', 's']\n",
            "Algoritmos\n"
          ]
        }
      ]
    },
    {
      "cell_type": "code",
      "source": [
        "s1[0] = 'a'\n",
        "print(''. join(s1))"
      ],
      "metadata": {
        "colab": {
          "base_uri": "https://localhost:8080/"
        },
        "id": "hfNllsGWAnmp",
        "outputId": "e370b66b-b926-485f-8fa7-ee736a056c9d"
      },
      "execution_count": 26,
      "outputs": [
        {
          "output_type": "stream",
          "name": "stdout",
          "text": [
            "algoritmos\n"
          ]
        }
      ]
    },
    {
      "cell_type": "markdown",
      "source": [
        "4. Verificando Caracteres"
      ],
      "metadata": {
        "id": "_tUWiDCHBKMA"
      }
    },
    {
      "cell_type": "code",
      "source": [
        "s1 = 'Lógica de Programação e Algoritmos'\n",
        "s1.startswith('Lógica')"
      ],
      "metadata": {
        "colab": {
          "base_uri": "https://localhost:8080/"
        },
        "id": "ErylHZUBBNiU",
        "outputId": "a11ffac0-0b8f-406d-f9c4-d3195ff855b0"
      },
      "execution_count": 33,
      "outputs": [
        {
          "output_type": "execute_result",
          "data": {
            "text/plain": [
              "True"
            ]
          },
          "metadata": {},
          "execution_count": 33
        }
      ]
    },
    {
      "cell_type": "code",
      "source": [
        "s1.endswith('Algoritmos')"
      ],
      "metadata": {
        "colab": {
          "base_uri": "https://localhost:8080/"
        },
        "id": "Kt2Qg01jBUiV",
        "outputId": "dc1341f7-22f4-4086-cf7e-99a5bbcb60a1"
      },
      "execution_count": 34,
      "outputs": [
        {
          "output_type": "execute_result",
          "data": {
            "text/plain": [
              "True"
            ]
          },
          "metadata": {},
          "execution_count": 34
        }
      ]
    },
    {
      "cell_type": "code",
      "source": [
        "s1.endswith('algoritmos')"
      ],
      "metadata": {
        "colab": {
          "base_uri": "https://localhost:8080/"
        },
        "id": "FZp5MEQSBi1c",
        "outputId": "f52e0d49-493f-432a-9d4d-e93ec13b9e0b"
      },
      "execution_count": 35,
      "outputs": [
        {
          "output_type": "execute_result",
          "data": {
            "text/plain": [
              "False"
            ]
          },
          "metadata": {},
          "execution_count": 35
        }
      ]
    },
    {
      "cell_type": "code",
      "source": [
        "s1.lower().endswith('algoritmos')"
      ],
      "metadata": {
        "colab": {
          "base_uri": "https://localhost:8080/"
        },
        "id": "Mofo8PEgBn8U",
        "outputId": "5d75b5ca-aa90-445f-ad0e-56385cca252a"
      },
      "execution_count": 36,
      "outputs": [
        {
          "output_type": "execute_result",
          "data": {
            "text/plain": [
              "True"
            ]
          },
          "metadata": {},
          "execution_count": 36
        }
      ]
    },
    {
      "cell_type": "code",
      "source": [
        "s1 = 'Lógica de Programação e Algoritmos'\n",
        "print(s1.upper())\n",
        "print(s1.lower())"
      ],
      "metadata": {
        "colab": {
          "base_uri": "https://localhost:8080/"
        },
        "id": "z24EVsBQCHTi",
        "outputId": "fe368ef4-8168-46db-b77e-77c081c1b0ec"
      },
      "execution_count": 37,
      "outputs": [
        {
          "output_type": "stream",
          "name": "stdout",
          "text": [
            "LÓGICA DE PROGRAMAÇÃO E ALGORITMOS\n",
            "lógica de programação e algoritmos\n"
          ]
        }
      ]
    },
    {
      "cell_type": "code",
      "source": [
        "s1 = 'Lógica de Programação e Algoritmos'\n",
        "s1.count('a')"
      ],
      "metadata": {
        "colab": {
          "base_uri": "https://localhost:8080/"
        },
        "id": "gjJGHthNC_a-",
        "outputId": "c2cb604a-82c9-43ef-a1e8-9bfd3215c2b8"
      },
      "execution_count": 38,
      "outputs": [
        {
          "output_type": "execute_result",
          "data": {
            "text/plain": [
              "3"
            ]
          },
          "metadata": {},
          "execution_count": 38
        }
      ]
    },
    {
      "cell_type": "code",
      "source": [
        "s1 = 'Lógica de Programação e Algoritmos'\n",
        "s1.lower().count('a')"
      ],
      "metadata": {
        "colab": {
          "base_uri": "https://localhost:8080/"
        },
        "id": "HmXjKSrMDFqn",
        "outputId": "d386302a-ee82-4614-f12c-072c513323a1"
      },
      "execution_count": 39,
      "outputs": [
        {
          "output_type": "execute_result",
          "data": {
            "text/plain": [
              "4"
            ]
          },
          "metadata": {},
          "execution_count": 39
        }
      ]
    },
    {
      "cell_type": "code",
      "source": [
        "s1 = 'Lógica de Programação e Algoritmos'\n",
        "s1.split(' ')"
      ],
      "metadata": {
        "colab": {
          "base_uri": "https://localhost:8080/"
        },
        "id": "K43TqJYNDSAz",
        "outputId": "8f9af9f7-d8b6-4671-99ce-4a6e58879b2d"
      },
      "execution_count": 43,
      "outputs": [
        {
          "output_type": "execute_result",
          "data": {
            "text/plain": [
              "['Lógica', 'de', 'Programação', 'e', 'Algoritmos']"
            ]
          },
          "metadata": {},
          "execution_count": 43
        }
      ]
    },
    {
      "cell_type": "code",
      "source": [
        "s1 = 'um cachorrinho, dois cachorrinhos, três cachorrinhos'\n",
        "s1.replace('cachorrinho', 'gatinho')"
      ],
      "metadata": {
        "colab": {
          "base_uri": "https://localhost:8080/",
          "height": 35
        },
        "id": "MMyObnIWD7CW",
        "outputId": "73d14df9-c859-4b42-f994-e4661ccb7869"
      },
      "execution_count": 47,
      "outputs": [
        {
          "output_type": "execute_result",
          "data": {
            "text/plain": [
              "'um gatinho, dois gatinhos, três gatinhos'"
            ],
            "application/vnd.google.colaboratory.intrinsic+json": {
              "type": "string"
            }
          },
          "metadata": {},
          "execution_count": 47
        }
      ]
    },
    {
      "cell_type": "code",
      "source": [
        "s1 = 'um cachorrinho, dois cachorrinhos, três cachorrinhos'\n",
        "s1.replace('cachorrinho', 'gatinho', 1)"
      ],
      "metadata": {
        "colab": {
          "base_uri": "https://localhost:8080/",
          "height": 35
        },
        "id": "eEBw7jcTEDDG",
        "outputId": "2fda5020-b8b0-4f81-de8d-38ee30b9509f"
      },
      "execution_count": 48,
      "outputs": [
        {
          "output_type": "execute_result",
          "data": {
            "text/plain": [
              "'um gatinho, dois cachorrinhos, três cachorrinhos'"
            ],
            "application/vnd.google.colaboratory.intrinsic+json": {
              "type": "string"
            }
          },
          "metadata": {},
          "execution_count": 48
        }
      ]
    },
    {
      "cell_type": "code",
      "source": [
        "s1 = 'Lógica de Programação e Algoritmos'\n",
        "s2 = '42'\n",
        "\n",
        "print(s1.isalnum())\n",
        "print(s2.isalnum())"
      ],
      "metadata": {
        "colab": {
          "base_uri": "https://localhost:8080/"
        },
        "id": "53NqVD6RFath",
        "outputId": "b041e8ba-ed80-4e3a-87ad-21fbeb1a5fa9"
      },
      "execution_count": 49,
      "outputs": [
        {
          "output_type": "stream",
          "name": "stdout",
          "text": [
            "False\n",
            "True\n"
          ]
        }
      ]
    },
    {
      "cell_type": "code",
      "source": [
        "s1 = 'Lógica de Programação e Algoritmos'\n",
        "s2 = '42'\n",
        "\n",
        "print(s1.isalpha())\n",
        "print(s2.isalpha())"
      ],
      "metadata": {
        "colab": {
          "base_uri": "https://localhost:8080/"
        },
        "id": "B3X4_G8oFwln",
        "outputId": "9e28d7cb-9487-43ad-be2a-0b8f917a380d"
      },
      "execution_count": 50,
      "outputs": [
        {
          "output_type": "stream",
          "name": "stdout",
          "text": [
            "False\n",
            "False\n"
          ]
        }
      ]
    },
    {
      "cell_type": "code",
      "source": [
        "s1 = 'LógicadeProgramaçãoeAlgoritmos'\n",
        "s2 = '42'\n",
        "\n",
        "print(s1.isalpha())\n",
        "print(s2.isalpha())\n",
        "print(s2.isdigit())"
      ],
      "metadata": {
        "colab": {
          "base_uri": "https://localhost:8080/"
        },
        "id": "EXr7aKR0F4JZ",
        "outputId": "fc37e868-6d96-47b4-9907-5094a55d62da"
      },
      "execution_count": 52,
      "outputs": [
        {
          "output_type": "stream",
          "name": "stdout",
          "text": [
            "True\n",
            "False\n",
            "True\n"
          ]
        }
      ]
    },
    {
      "cell_type": "code",
      "source": [],
      "metadata": {
        "id": "uFeQlV5lGND4"
      },
      "execution_count": null,
      "outputs": []
    }
  ]
}