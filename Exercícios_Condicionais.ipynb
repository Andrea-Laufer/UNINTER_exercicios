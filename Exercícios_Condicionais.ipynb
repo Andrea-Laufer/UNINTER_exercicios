{
  "nbformat": 4,
  "nbformat_minor": 0,
  "metadata": {
    "colab": {
      "provenance": [],
      "authorship_tag": "ABX9TyNtpHtfSeD7++ieYTp1F8Og",
      "include_colab_link": true
    },
    "kernelspec": {
      "name": "python3",
      "display_name": "Python 3"
    },
    "language_info": {
      "name": "python"
    }
  },
  "cells": [
    {
      "cell_type": "markdown",
      "metadata": {
        "id": "view-in-github",
        "colab_type": "text"
      },
      "source": [
        "<a href=\"https://colab.research.google.com/github/Andrea-Laufer/UNINTER_exercicios/blob/main/Exerc%C3%ADcios_Condicionais.ipynb\" target=\"_parent\"><img src=\"https://colab.research.google.com/assets/colab-badge.svg\" alt=\"Open In Colab\"/></a>"
      ]
    },
    {
      "cell_type": "markdown",
      "source": [
        "# ** Exercícios da Aula (Condicionais) **"
      ],
      "metadata": {
        "id": "fIkymDiUgEkm"
      }
    },
    {
      "cell_type": "code",
      "execution_count": null,
      "metadata": {
        "colab": {
          "base_uri": "https://localhost:8080/"
        },
        "id": "mk0V2XkOY_NA",
        "outputId": "6ffde7d4-aa28-423d-b3c4-adebf572278b"
      },
      "outputs": [
        {
          "output_type": "stream",
          "name": "stdout",
          "text": [
            "Escreva o seu nome: Andréa\n",
            "Digite a sua idade: 45\n",
            "Você não é Rebeca e é maior de idade\n"
          ]
        }
      ],
      "source": [
        "nome = input('Escreva o seu nome: ')\n",
        "idade = int(input('Digite a sua idade: '))\n",
        "\n",
        "if nome == 'Rebeca':\n",
        "  print('Olá, Rebeca')\n",
        "\n",
        "elif idade < 18:\n",
        "  print('Você não é Rebeca e é menor de idade')\n",
        "\n",
        "elif idade >= 18:\n",
        "  print('Você não é Rebeca e é maior de idade')\n",
        "\n",
        "elif idade > 100:\n",
        "  print('Você provavelmente não existe')\n",
        "\n"
      ]
    },
    {
      "cell_type": "code",
      "source": [
        "dano = int(input('Digite o valor numérico do dano '))\n",
        "\n",
        "escudo = int(input('Digite o valor numérico do escudo '))\n",
        "\n",
        "if (dano > 10 and escudo == 0):\n",
        "  print('Você está morto! ')\n",
        "\n",
        "else:\n",
        "  print('Você ainda está vivo! ')"
      ],
      "metadata": {
        "colab": {
          "base_uri": "https://localhost:8080/"
        },
        "id": "bdScmwsWm3YB",
        "outputId": "62691534-5830-4ab0-c03e-3191223d748f"
      },
      "execution_count": null,
      "outputs": [
        {
          "output_type": "stream",
          "name": "stdout",
          "text": [
            "Digite o valor numérico do dano 5\n",
            "Digite o valor numérico do escudo 0\n",
            "Você ainda está vivo! \n"
          ]
        }
      ]
    },
    {
      "cell_type": "code",
      "source": [
        "ano = int(input('Digite um ano com quatro algarismos. Explo: 1990. '))\n",
        "\n",
        "if (ano % 4 == 0):\n",
        "  print('O ano é bissexto')\n",
        "\n",
        "else:\n",
        "  print('O ano não é bissexto')"
      ],
      "metadata": {
        "colab": {
          "base_uri": "https://localhost:8080/"
        },
        "id": "7apJL20WnnpH",
        "outputId": "dbe2d113-4811-4087-8a49-ab6adf3e57da"
      },
      "execution_count": null,
      "outputs": [
        {
          "output_type": "stream",
          "name": "stdout",
          "text": [
            "Digite um ano com quatro algarismos. Explo: 1990. 2020\n",
            "O ano é bissexto\n"
          ]
        }
      ]
    },
    {
      "cell_type": "code",
      "source": [
        "cima = True\n",
        "baixo = False\n",
        "\n",
        "if (cima == True and baixo == True):\n",
        "  print('Decida-se! ')\n",
        "\n",
        "else:\n",
        "  print('Você escolheu um caminho! ')"
      ],
      "metadata": {
        "colab": {
          "base_uri": "https://localhost:8080/"
        },
        "id": "sFqLl52kptnK",
        "outputId": "9e9a8de4-9a8b-47a6-c630-458c6dec4738"
      },
      "execution_count": null,
      "outputs": [
        {
          "output_type": "stream",
          "name": "stdout",
          "text": [
            "Você escolheu um caminho! \n"
          ]
        }
      ]
    },
    {
      "cell_type": "code",
      "source": [
        "# Triângulo equilátero = 3 lados iguais\n",
        "# Triângulo isósceloes = 2 lados iguais\n",
        "# Triângulo escaleno = 3 lados diferentes\n",
        "\n",
        "# Nenhum lado pode ser 0 e dois lados não podem ter soma maior que o outro lado\n",
        "\n",
        "# equilatero = a == b == c and a != 0 and b != 0 and c != 0 and a + b > c and a + c > b and b + c > a\n",
        "# isoceles = a == b != c or a == c != b or b == c != a and a != 0 and b != 0 and c != 0 and a + b > c and a + c > b and b + c > a\n",
        "# escaleno = a != b != c and a != 0 and b != 0 and c != 0 and a + b > c and a + c > b and b + c > a\n",
        "\n",
        "\n",
        "a = int(input('Digite o valor do lado a: '))\n",
        "b = int(input('Digite o valor do lado b: '))\n",
        "c = int(input('Digite o valor do lado c: '))\n",
        "\n",
        "if (a == b == c and a != 0 and b != 0 and c != 0 and a + b > c and a + c > b and b + c > a):\n",
        "  print('O triângulo é equilátero')\n",
        "\n",
        "elif (a == b != c or a == c != b or b == c != a and a != 0 and b != 0 and c != 0 and a + b > c and a + c > b and b + c > a):\n",
        "  print('O triângulo é isósceles')\n",
        "\n",
        "elif (a != b != c and a != 0 and b != 0 and c != 0 and a + b > c and a + c > b and b + c > a):\n",
        "  print('O triângulo é escaleno')\n",
        "\n",
        "elif (a == 0 or b == 0 or c == 0 or a + b < c or a + c < b or b + c < a):\n",
        "  print('Não é um triângulo')"
      ],
      "metadata": {
        "id": "T7XJGcb9qs7U"
      },
      "execution_count": null,
      "outputs": []
    },
    {
      "cell_type": "code",
      "source": [
        "mensagem = 'Escolha a operação que deseja realizar dentre as opções abaixo'\n",
        "\n",
        "operacao1 = '+'\n",
        "operacao2 = '-'\n",
        "operacao3 = '*'\n",
        "operacao4 = '/'\n",
        "\n",
        "print(mensagem)\n",
        "print(operacao1)\n",
        "print(operacao2)\n",
        "print(operacao3)\n",
        "print(operacao4)\n",
        "\n",
        "operacao = input('Digite a operação escolhida: ')\n",
        "\n",
        "num1 = int(input('Digite o primeiro número: '))\n",
        "num2 = int(input('Digite o segundo número: '))\n",
        "\n",
        "if (operacao == operacao1):\n",
        "  print(num1 + num2)\n",
        "\n",
        "elif (operacao == operacao2):\n",
        "  print(num1 - num2)\n",
        "\n",
        "elif (operacao == operacao3):\n",
        "  print(num1 * num2)\n",
        "\n",
        "elif(operacao == operacao4):\n",
        "  print(num1 / num2)\n",
        "\n",
        "else:\n",
        "  print('Operação inválida')\n",
        "\n",
        "\n",
        "\n",
        "\n",
        "\n",
        "\n",
        "\n"
      ],
      "metadata": {
        "id": "Y17TwaXDCzqU"
      },
      "execution_count": null,
      "outputs": []
    }
  ]
}