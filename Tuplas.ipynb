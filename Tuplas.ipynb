{
  "nbformat": 4,
  "nbformat_minor": 0,
  "metadata": {
    "colab": {
      "provenance": [],
      "authorship_tag": "ABX9TyN/NgvnlrAMSqem59uRZ2dV",
      "include_colab_link": true
    },
    "kernelspec": {
      "name": "python3",
      "display_name": "Python 3"
    },
    "language_info": {
      "name": "python"
    }
  },
  "cells": [
    {
      "cell_type": "markdown",
      "metadata": {
        "id": "view-in-github",
        "colab_type": "text"
      },
      "source": [
        "<a href=\"https://colab.research.google.com/github/Andrea-Laufer/UNINTER_exercicios/blob/main/Tuplas.ipynb\" target=\"_parent\"><img src=\"https://colab.research.google.com/assets/colab-badge.svg\" alt=\"Open In Colab\"/></a>"
      ]
    },
    {
      "cell_type": "markdown",
      "source": [
        "1. Tuplas (Construindo e Manipulando)"
      ],
      "metadata": {
        "id": "KgnmLpnHEKml"
      }
    },
    {
      "cell_type": "code",
      "execution_count": 1,
      "metadata": {
        "colab": {
          "base_uri": "https://localhost:8080/"
        },
        "id": "0WaRAgriEJzM",
        "outputId": "07345ca6-ea56-433f-e1a7-6f2407ab6d58"
      },
      "outputs": [
        {
          "output_type": "stream",
          "name": "stdout",
          "text": [
            "('Machado', 'Camisa', 'Bacon', 'Abacate')\n"
          ]
        }
      ],
      "source": [
        "mochila = ('Machado', 'Camisa', 'Bacon', 'Abacate')\n",
        "print(mochila)"
      ]
    },
    {
      "cell_type": "code",
      "source": [
        "print(mochila[0])\n",
        "print(mochila[2])\n",
        "print(mochila[0:2])\n",
        "print(mochila[2:])\n",
        "print(mochila[-1])"
      ],
      "metadata": {
        "colab": {
          "base_uri": "https://localhost:8080/"
        },
        "id": "8kPJTEuaEiSm",
        "outputId": "f3c3637f-e085-41c5-eb9d-165e395f88d9"
      },
      "execution_count": 2,
      "outputs": [
        {
          "output_type": "stream",
          "name": "stdout",
          "text": [
            "Machado\n",
            "Bacon\n",
            "('Machado', 'Camisa')\n",
            "('Bacon', 'Abacate')\n",
            "Abacate\n"
          ]
        }
      ]
    },
    {
      "cell_type": "code",
      "source": [
        "for item in mochila:\n",
        "  print(f'Na minha mochila tem: {item}')"
      ],
      "metadata": {
        "colab": {
          "base_uri": "https://localhost:8080/"
        },
        "id": "yG_vLAPtFOjQ",
        "outputId": "56cabad3-2658-42ec-c75a-5501034789c8"
      },
      "execution_count": 3,
      "outputs": [
        {
          "output_type": "stream",
          "name": "stdout",
          "text": [
            "Na minha mochila tem: Machado\n",
            "Na minha mochila tem: Camisa\n",
            "Na minha mochila tem: Bacon\n",
            "Na minha mochila tem: Abacate\n"
          ]
        }
      ]
    },
    {
      "cell_type": "markdown",
      "source": [
        "Obs: outra forma de escrever o que o código acima faz"
      ],
      "metadata": {
        "id": "pnIUSLG8FsDb"
      }
    },
    {
      "cell_type": "code",
      "source": [
        "tam = len(mochila)\n",
        "for i in range(tam):\n",
        "  print(f'Na minha mochila tem: {mochila[i]}')"
      ],
      "metadata": {
        "colab": {
          "base_uri": "https://localhost:8080/"
        },
        "id": "BrQzBGBmFaiP",
        "outputId": "daba2415-3f77-4fb7-a4fc-476e220a9552"
      },
      "execution_count": 4,
      "outputs": [
        {
          "output_type": "stream",
          "name": "stdout",
          "text": [
            "Na minha mochila tem: Machado\n",
            "Na minha mochila tem: Camisa\n",
            "Na minha mochila tem: Bacon\n",
            "Na minha mochila tem: Abacate\n"
          ]
        }
      ]
    },
    {
      "cell_type": "code",
      "source": [
        "mochila = ('Machado', 'Camisa', 'Bacon', 'Abacate')\n",
        "upgrade = ('Queijo', 'Canivete')\n",
        "\n",
        "mochila_grande = mochila + upgrade\n",
        "print(mochila_grande)"
      ],
      "metadata": {
        "colab": {
          "base_uri": "https://localhost:8080/"
        },
        "id": "N_Z72vM2Ganf",
        "outputId": "6445edf8-6f4d-4e77-bd9a-80be25d88224"
      },
      "execution_count": 5,
      "outputs": [
        {
          "output_type": "stream",
          "name": "stdout",
          "text": [
            "('Machado', 'Camisa', 'Bacon', 'Abacate', 'Queijo', 'Canivete')\n"
          ]
        }
      ]
    },
    {
      "cell_type": "markdown",
      "source": [
        "2. Desempacotamento de Parâmetros em Funções"
      ],
      "metadata": {
        "id": "3MUtYR4sGyBG"
      }
    },
    {
      "cell_type": "markdown",
      "source": [
        "2.1 Somar diversos valores mas não se sabe quantos. Criar função para receber\n",
        "essa variedade de parâmetros com tupla"
      ],
      "metadata": {
        "id": "x-Mpc9iMHGNj"
      }
    },
    {
      "cell_type": "code",
      "source": [
        "def soma(*num):\n",
        "  acumulador = 0\n",
        "  for i in num:\n",
        "    acumulador += i\n",
        "  return acumulador\n",
        "\n",
        "# Programa Principal\n",
        "print(f'Resultado da soma: {soma (1, 2)} \\n')\n",
        "print(f'Resultado da soma: {soma (1, 2, 3, 4, 5, 6, 7, 8, 9)} \\n')"
      ],
      "metadata": {
        "colab": {
          "base_uri": "https://localhost:8080/"
        },
        "id": "47TPP6cMG2U5",
        "outputId": "713f651a-c1ef-4d43-c0e1-5367e8069e46"
      },
      "execution_count": 6,
      "outputs": [
        {
          "output_type": "stream",
          "name": "stdout",
          "text": [
            "Resultado da soma: 3 \n",
            "\n",
            "Resultado da soma: 45 \n",
            "\n"
          ]
        }
      ]
    },
    {
      "cell_type": "code",
      "source": [],
      "metadata": {
        "id": "q35bbsxMInT3"
      },
      "execution_count": null,
      "outputs": []
    }
  ]
}