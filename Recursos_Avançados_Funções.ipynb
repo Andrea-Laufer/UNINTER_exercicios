{
  "nbformat": 4,
  "nbformat_minor": 0,
  "metadata": {
    "colab": {
      "provenance": [],
      "authorship_tag": "ABX9TyMkaGbN8oM5PTAKMblCfQjf",
      "include_colab_link": true
    },
    "kernelspec": {
      "name": "python3",
      "display_name": "Python 3"
    },
    "language_info": {
      "name": "python"
    }
  },
  "cells": [
    {
      "cell_type": "markdown",
      "metadata": {
        "id": "view-in-github",
        "colab_type": "text"
      },
      "source": [
        "<a href=\"https://colab.research.google.com/github/Andrea-Laufer/UNINTER_exercicios/blob/main/Recursos_Avan%C3%A7ados_Fun%C3%A7%C3%B5es.ipynb\" target=\"_parent\"><img src=\"https://colab.research.google.com/assets/colab-badge.svg\" alt=\"Open In Colab\"/></a>"
      ]
    },
    {
      "cell_type": "markdown",
      "source": [
        "1. Recursos Avannçados com Funções"
      ],
      "metadata": {
        "id": "JF4L8I8RKvHx"
      }
    },
    {
      "cell_type": "code",
      "execution_count": 4,
      "metadata": {
        "colab": {
          "base_uri": "https://localhost:8080/"
        },
        "id": "dnRFqh0rKqjF",
        "outputId": "f96e2709-a4d1-4e98-f8a3-e696a320ea85"
      },
      "outputs": [
        {
          "name": "stdout",
          "output_type": "stream",
          "text": [
            "Digite um número: 4\n",
            "Digite um número: o\n",
            "Valor inválido. Tente novamente.\n",
            "Digite um número: 10\n"
          ]
        }
      ],
      "source": [
        "# value error\n",
        "\n",
        "x = int(input('Digite um número: '))\n",
        "\n",
        "while True:\n",
        "  try:\n",
        "    x = int(input('Digite um número: '))\n",
        "    break\n",
        "  except ValueError:\n",
        "    print('Valor inválido. Tente novamente.')"
      ]
    },
    {
      "cell_type": "code",
      "source": [
        "i = 0\n",
        "\n",
        "while True:\n",
        "  try:\n",
        "    nome = input('Digite seu nome: ')\n",
        "    ind = int(input('Digite o índice desejado do nome: '))\n",
        "    print(nome[ind])\n",
        "    break\n",
        "  except ValueError:\n",
        "    print('Valor inválido. Tente novamente.')\n",
        "  except IndexError:\n",
        "    print('Índice inválido. Tente novamente.')\n",
        "  finally:\n",
        "    print(f'Tentativa {i}')\n",
        "    i +=1"
      ],
      "metadata": {
        "colab": {
          "base_uri": "https://localhost:8080/"
        },
        "id": "Wns1GjIQLtI5",
        "outputId": "ad28a093-acfc-4aaa-e3d9-82b0a7992d2e"
      },
      "execution_count": 7,
      "outputs": [
        {
          "output_type": "stream",
          "name": "stdout",
          "text": [
            "Digite seu nome: Liliana\n",
            "Digite o índice desejado do nome: 20\n",
            "Índice inválido. Tente novamente.\n",
            "Tentativa 0\n",
            "Digite seu nome: Liliana\n",
            "Digite o índice desejado do nome: p\n",
            "Valor inválido. Tente novamente.\n",
            "Tentativa 1\n",
            "Digite seu nome: Liliana\n",
            "Digite o índice desejado do nome: a\n",
            "Valor inválido. Tente novamente.\n",
            "Tentativa 2\n",
            "Digite seu nome: Liliana\n",
            "Digite o índice desejado do nome: 10\n",
            "Índice inválido. Tente novamente.\n",
            "Tentativa 3\n",
            "Digite seu nome: Liliana\n",
            "Digite o índice desejado do nome: 0\n",
            "L\n",
            "Tentativa 4\n"
          ]
        }
      ]
    },
    {
      "cell_type": "code",
      "source": [
        "from warnings import resetwarnings\n",
        "def div():\n",
        "  try:\n",
        "    num1 = int(input('Digite o primeiro número: '))\n",
        "    num2 = int(input('Digite o segundo número: '))\n",
        "    res = num1 / num2\n",
        "  except ZeroDivisionError:\n",
        "    print('Divisão por zero não é possível!')\n",
        "  except:\n",
        "    print('Algo deu errado, tente novamente!')\n",
        "  else:\n",
        "    return res\n",
        "  finally:\n",
        "    print('Você executará sempre.')\n",
        "\n",
        "\n",
        "# programa principal\n",
        "print(div())\n"
      ],
      "metadata": {
        "colab": {
          "base_uri": "https://localhost:8080/"
        },
        "id": "8_ylL90tO0kw",
        "outputId": "859f8b26-7631-4597-cfa0-9aab6bdcdab1"
      },
      "execution_count": 10,
      "outputs": [
        {
          "output_type": "stream",
          "name": "stdout",
          "text": [
            "Digite o primeiro número: 10\n",
            "Digite o segundo número: 2.5\n",
            "Algo deu errado, tente novamente!\n",
            "Você executará sempre.\n",
            "None\n"
          ]
        }
      ]
    }
  ]
}