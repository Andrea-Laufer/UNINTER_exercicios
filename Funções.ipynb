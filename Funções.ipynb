{
  "nbformat": 4,
  "nbformat_minor": 0,
  "metadata": {
    "colab": {
      "provenance": [],
      "authorship_tag": "ABX9TyPjFb7ozpMsPPuVv0keK6e4",
      "include_colab_link": true
    },
    "kernelspec": {
      "name": "python3",
      "display_name": "Python 3"
    },
    "language_info": {
      "name": "python"
    }
  },
  "cells": [
    {
      "cell_type": "markdown",
      "metadata": {
        "id": "view-in-github",
        "colab_type": "text"
      },
      "source": [
        "<a href=\"https://colab.research.google.com/github/Andrea-Laufer/UNINTER_exercicios/blob/main/Fun%C3%A7%C3%B5es.ipynb\" target=\"_parent\"><img src=\"https://colab.research.google.com/assets/colab-badge.svg\" alt=\"Open In Colab\"/></a>"
      ]
    },
    {
      "cell_type": "markdown",
      "source": [
        "1. Criando Funções\n",
        "\n",
        "Usar def + nome da função + parênteses obrigatórios + :"
      ],
      "metadata": {
        "id": "UMDqJlxfq35M"
      }
    },
    {
      "cell_type": "code",
      "execution_count": 2,
      "metadata": {
        "colab": {
          "base_uri": "https://localhost:8080/"
        },
        "id": "IkiNtHDHqsNM",
        "outputId": "c216b1e3-888d-45ce-810c-8e8df60d1644"
      },
      "outputs": [
        {
          "output_type": "stream",
          "name": "stdout",
          "text": [
            "| __________ |\n",
            "| __________ |\n",
            "     MENU\n",
            "| __________ |\n",
            "| __________ |\n"
          ]
        }
      ],
      "source": [
        "print('|', '_' * 10, '|')\n",
        "print('|', '_' * 10, '|')\n",
        "print('     MENU')\n",
        "print('|', '_' * 10, '|')\n",
        "print('|', '_' * 10, '|')\n"
      ]
    },
    {
      "cell_type": "code",
      "source": [
        "def realce():\n",
        "  #corpo função\n",
        "  print('|', '_' * 10, '|')\n",
        "  print('|', '_' * 10, '|')\n"
      ],
      "metadata": {
        "id": "4v10DUrZsK1x"
      },
      "execution_count": 3,
      "outputs": []
    },
    {
      "cell_type": "code",
      "source": [
        "#programa principal para usar a função realce\n",
        "realce()\n",
        "print('     MENU')\n",
        "realce()\n"
      ],
      "metadata": {
        "colab": {
          "base_uri": "https://localhost:8080/"
        },
        "id": "tnRquxOtspTQ",
        "outputId": "d6f95566-9de3-41e3-8aaa-3bf9bfd66f64"
      },
      "execution_count": 4,
      "outputs": [
        {
          "output_type": "stream",
          "name": "stdout",
          "text": [
            "| __________ |\n",
            "| __________ |\n",
            "     MENU\n",
            "| __________ |\n",
            "| __________ |\n"
          ]
        }
      ]
    },
    {
      "cell_type": "markdown",
      "source": [],
      "metadata": {
        "id": "wuvwXsUlq3Ot"
      }
    },
    {
      "cell_type": "markdown",
      "source": [
        "2. Parâmetros em Funções\n",
        "Usar def + nome função + parênteses obrigatórios (dentro dos parênteses colocar a variável) + :"
      ],
      "metadata": {
        "id": "IGWxuZsJtLc1"
      }
    },
    {
      "cell_type": "code",
      "source": [
        "def realce (s1):\n",
        "  print('|', '_' * 10, '|')\n",
        "  print('|', '_' * 10, '|')\n",
        "  print(s1)\n",
        "  print('|', '_' * 10, '|')\n",
        "  print('|', '_' * 10, '|')"
      ],
      "metadata": {
        "id": "2nZUyh3gtZGh"
      },
      "execution_count": 5,
      "outputs": []
    },
    {
      "cell_type": "code",
      "source": [
        "realce('     MENU')"
      ],
      "metadata": {
        "colab": {
          "base_uri": "https://localhost:8080/"
        },
        "id": "u7-mqamFuhXE",
        "outputId": "714b6eec-3541-4540-e024-d87a49cac559"
      },
      "execution_count": 6,
      "outputs": [
        {
          "output_type": "stream",
          "name": "stdout",
          "text": [
            "| __________ |\n",
            "| __________ |\n",
            "     MENU\n",
            "| __________ |\n",
            "| __________ |\n"
          ]
        }
      ]
    },
    {
      "cell_type": "code",
      "source": [
        "def sub2 (x, y):\n",
        "  res = x -y\n",
        "  print(res)"
      ],
      "metadata": {
        "id": "VKAJhdZou7Ct"
      },
      "execution_count": 8,
      "outputs": []
    },
    {
      "cell_type": "code",
      "source": [
        "sub2 (5,7)"
      ],
      "metadata": {
        "colab": {
          "base_uri": "https://localhost:8080/"
        },
        "id": "mjZjA3kXvJEd",
        "outputId": "b592e5bf-c797-4173-800c-79dea88fc803"
      },
      "execution_count": 9,
      "outputs": [
        {
          "output_type": "stream",
          "name": "stdout",
          "text": [
            "-2\n"
          ]
        }
      ]
    },
    {
      "cell_type": "markdown",
      "source": [
        "3. Parâmetros Opcionais"
      ],
      "metadata": {
        "id": "t0lY5dFWwNYd"
      }
    },
    {
      "cell_type": "code",
      "source": [
        "def soma3 (x = 0, y = 0, z = 0):\n",
        "  res = x + y + z\n",
        "  print(res)"
      ],
      "metadata": {
        "id": "_Msfa2onwP4B"
      },
      "execution_count": 10,
      "outputs": []
    },
    {
      "cell_type": "code",
      "source": [
        "soma3 (1, 2, 3)"
      ],
      "metadata": {
        "colab": {
          "base_uri": "https://localhost:8080/"
        },
        "id": "KZ9PxLKtwQTk",
        "outputId": "c5a57698-ef5c-4600-8170-af867c5c51b8"
      },
      "execution_count": 11,
      "outputs": [
        {
          "output_type": "stream",
          "name": "stdout",
          "text": [
            "6\n"
          ]
        }
      ]
    },
    {
      "cell_type": "code",
      "source": [
        "soma3(1, 2)\n",
        "# omitindo o z, o programa assume que z = 0 e executa a soma"
      ],
      "metadata": {
        "colab": {
          "base_uri": "https://localhost:8080/"
        },
        "id": "fkCU1iwMwbO3",
        "outputId": "c47d58d3-f439-4aa7-c949-951c609f516d"
      },
      "execution_count": 12,
      "outputs": [
        {
          "output_type": "stream",
          "name": "stdout",
          "text": [
            "3\n"
          ]
        }
      ]
    },
    {
      "cell_type": "code",
      "source": [
        "soma3(1)\n",
        "# omitindo o y e o z, o programa assume que y = o e z = 0 e executa a soma"
      ],
      "metadata": {
        "colab": {
          "base_uri": "https://localhost:8080/"
        },
        "id": "oQLLfpbcwkxs",
        "outputId": "14b940ed-066a-428d-ea2e-b4e34f506963"
      },
      "execution_count": 13,
      "outputs": [
        {
          "output_type": "stream",
          "name": "stdout",
          "text": [
            "1\n"
          ]
        }
      ]
    },
    {
      "cell_type": "code",
      "source": [
        "soma3()\n",
        "# omitindo todos, o programa assume que são todos = 0 e executa"
      ],
      "metadata": {
        "colab": {
          "base_uri": "https://localhost:8080/"
        },
        "id": "MWrRagFAwtkx",
        "outputId": "5669e64d-0f3f-49ff-865c-aaf9268f7534"
      },
      "execution_count": 14,
      "outputs": [
        {
          "output_type": "stream",
          "name": "stdout",
          "text": [
            "0\n"
          ]
        }
      ]
    },
    {
      "cell_type": "markdown",
      "source": [
        "4. Exercício Fixação\n",
        "Defina uma borda que acompanhe, no tamanho, a palavra que deverá aparecer dentro desta borda.\n",
        "A palavra será o parâmetro que define o tamanho da borda."
      ],
      "metadata": {
        "id": "O9Tu5UC6xVYV"
      }
    },
    {
      "cell_type": "code",
      "source": [
        "def borda (s1):\n",
        "  tam = len(s1)\n",
        "  #só imprime se houver algum caracter\n",
        "  if tam:\n",
        "    print('+', '-' * tam, '+')\n",
        "    print('|', s1, '|')\n",
        "    print('+', '-' * tam, '+')\n",
        "\n",
        "\n",
        "# Executando a função borda\n",
        "\n",
        "borda('Olá Mundo!')\n",
        "borda('Python')\n",
        "borda('Daryl Dixon é o melhor')\n",
        "borda('Black Butler')"
      ],
      "metadata": {
        "colab": {
          "base_uri": "https://localhost:8080/"
        },
        "id": "2_fI3KTXxpHb",
        "outputId": "7d038b2d-c4f2-4955-de33-25c5e41fe391"
      },
      "execution_count": 17,
      "outputs": [
        {
          "output_type": "stream",
          "name": "stdout",
          "text": [
            "+ ---------- +\n",
            "| Olá Mundo! |\n",
            "+ ---------- +\n",
            "+ ------ +\n",
            "| Python |\n",
            "+ ------ +\n",
            "+ ---------------------- +\n",
            "| Daryl Dixon é o melhor |\n",
            "+ ---------------------- +\n",
            "+ ------------ +\n",
            "| Black Butler |\n",
            "+ ------------ +\n"
          ]
        }
      ]
    }
  ]
}