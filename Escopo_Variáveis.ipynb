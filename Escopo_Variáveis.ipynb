{
  "nbformat": 4,
  "nbformat_minor": 0,
  "metadata": {
    "colab": {
      "provenance": [],
      "authorship_tag": "ABX9TyPmcJEVsSM8kh50qZmPHAIE",
      "include_colab_link": true
    },
    "kernelspec": {
      "name": "python3",
      "display_name": "Python 3"
    },
    "language_info": {
      "name": "python"
    }
  },
  "cells": [
    {
      "cell_type": "markdown",
      "metadata": {
        "id": "view-in-github",
        "colab_type": "text"
      },
      "source": [
        "<a href=\"https://colab.research.google.com/github/Andrea-Laufer/UNINTER_exercicios/blob/main/Escopo_Vari%C3%A1veis.ipynb\" target=\"_parent\"><img src=\"https://colab.research.google.com/assets/colab-badge.svg\" alt=\"Open In Colab\"/></a>"
      ]
    },
    {
      "cell_type": "markdown",
      "source": [
        "1. Escopo de Variáveis"
      ],
      "metadata": {
        "id": "0utTP9VszmEm"
      }
    },
    {
      "cell_type": "code",
      "execution_count": 1,
      "metadata": {
        "colab": {
          "base_uri": "https://localhost:8080/"
        },
        "id": "Ooc7ONqvyeUs",
        "outputId": "5e7daa91-8d69-406f-aa1b-02523c96e176"
      },
      "outputs": [
        {
          "output_type": "stream",
          "name": "stdout",
          "text": [
            "12\n"
          ]
        }
      ],
      "source": [
        "def omelete():\n",
        "  print(ovos) #escopo local\n",
        "\n",
        "ovos = 12 # escopo global\n",
        "omelete()"
      ]
    },
    {
      "cell_type": "code",
      "source": [
        "def omelete():\n",
        "  ovos = 12\n",
        "  bacon = ()\n",
        "  print(ovos) # escopo local\n",
        "\n",
        "def bacon():\n",
        "  ovos = 6\n",
        "\n",
        "omelete() # programa principal\n",
        "\n"
      ],
      "metadata": {
        "colab": {
          "base_uri": "https://localhost:8080/"
        },
        "id": "pgmoNDCf1OmA",
        "outputId": "420c542e-3669-48a3-c4b7-17f073da376a"
      },
      "execution_count": 7,
      "outputs": [
        {
          "output_type": "stream",
          "name": "stdout",
          "text": [
            "12\n"
          ]
        }
      ]
    },
    {
      "cell_type": "code",
      "source": [
        "def omelete():\n",
        "  ovos = 12 # variável local\n",
        "  print('Ovos = ', ovos)\n",
        "\n",
        "def bacon():\n",
        "  ovos = 6 # variável local\n",
        "  print('Ovos = ', ovos)\n",
        "  omelete()\n",
        "  print('Ovos = ', ovos)\n",
        "\n",
        "# programa principal\n",
        "ovos = 2 # variável global\n",
        "bacon()\n",
        "print('Ovos = ', ovos)\n"
      ],
      "metadata": {
        "colab": {
          "base_uri": "https://localhost:8080/"
        },
        "id": "9lAF27lP3HSc",
        "outputId": "9a9f9b1a-270f-4b85-aa06-2d4a66fef193"
      },
      "execution_count": 14,
      "outputs": [
        {
          "output_type": "stream",
          "name": "stdout",
          "text": [
            "Ovos =  6\n",
            "Ovos =  12\n",
            "Ovos =  6\n",
            "Ovos =  2\n"
          ]
        }
      ]
    },
    {
      "cell_type": "code",
      "source": [
        "def omelete():\n",
        "  global ovos\n",
        "  ovos = 6\n",
        "\n",
        "# programa principal\n",
        "ovos = 12\n",
        "omelete()\n",
        "print('Ovos = ', ovos)"
      ],
      "metadata": {
        "colab": {
          "base_uri": "https://localhost:8080/"
        },
        "id": "-2tB-ePP5D5-",
        "outputId": "4cb70915-fd3c-4503-d33f-7d05870f4b09"
      },
      "execution_count": 15,
      "outputs": [
        {
          "output_type": "stream",
          "name": "stdout",
          "text": [
            "Ovos =  6\n"
          ]
        }
      ]
    },
    {
      "cell_type": "code",
      "source": [
        "def omelete():\n",
        "  global ovos\n",
        "  ovos = 6\n",
        "  bacon()\n",
        "\n",
        "def bacon():\n",
        "  ovos = 12\n",
        "  pimenta()\n",
        "\n",
        "def pimenta():\n",
        "  print(ovos)\n",
        "\n",
        "# programa principal\n",
        "ovos = 4\n",
        "omelete()\n",
        "print(ovos)"
      ],
      "metadata": {
        "colab": {
          "base_uri": "https://localhost:8080/"
        },
        "id": "NhpxWcHf_Qui",
        "outputId": "e77c515b-4ce1-47cd-d453-b23e630f3f52"
      },
      "execution_count": 18,
      "outputs": [
        {
          "output_type": "stream",
          "name": "stdout",
          "text": [
            "6\n",
            "6\n"
          ]
        }
      ]
    },
    {
      "cell_type": "code",
      "source": [
        "def omelete():\n",
        "  global ovos\n",
        "  print(ovos)\n",
        "  ovos = 6\n",
        "\n",
        "# programa principal\n",
        "ovos = 12\n",
        "omelete()\n"
      ],
      "metadata": {
        "colab": {
          "base_uri": "https://localhost:8080/"
        },
        "id": "-J1YJ_Re_2Sb",
        "outputId": "3208774d-c1c9-4d00-cf50-8749b44689eb"
      },
      "execution_count": 22,
      "outputs": [
        {
          "output_type": "stream",
          "name": "stdout",
          "text": [
            "12\n"
          ]
        }
      ]
    }
  ]
}