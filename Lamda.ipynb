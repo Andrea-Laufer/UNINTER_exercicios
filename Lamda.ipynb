{
  "nbformat": 4,
  "nbformat_minor": 0,
  "metadata": {
    "colab": {
      "provenance": [],
      "authorship_tag": "ABX9TyN3CmDiLwRhBLcfuQBw52MP",
      "include_colab_link": true
    },
    "kernelspec": {
      "name": "python3",
      "display_name": "Python 3"
    },
    "language_info": {
      "name": "python"
    }
  },
  "cells": [
    {
      "cell_type": "markdown",
      "metadata": {
        "id": "view-in-github",
        "colab_type": "text"
      },
      "source": [
        "<a href=\"https://colab.research.google.com/github/Andrea-Laufer/UNINTER_exercicios/blob/main/Lamda.ipynb\" target=\"_parent\"><img src=\"https://colab.research.google.com/assets/colab-badge.svg\" alt=\"Open In Colab\"/></a>"
      ]
    },
    {
      "cell_type": "markdown",
      "source": [
        "1. Funções Lambda"
      ],
      "metadata": {
        "id": "qRwtY-veQhtS"
      }
    },
    {
      "cell_type": "code",
      "execution_count": 2,
      "metadata": {
        "colab": {
          "base_uri": "https://localhost:8080/"
        },
        "id": "zCbwH7L7Qde1",
        "outputId": "e0cfbb13-e901-4201-b038-42f0f1b70b1d"
      },
      "outputs": [
        {
          "output_type": "stream",
          "name": "stdout",
          "text": [
            "4\n"
          ]
        }
      ],
      "source": [
        "res = lambda x: x * x\n",
        "print(res(2))"
      ]
    },
    {
      "cell_type": "code",
      "source": [
        "res = lambda x, y: x + y\n",
        "print(res(2, 3))"
      ],
      "metadata": {
        "colab": {
          "base_uri": "https://localhost:8080/"
        },
        "id": "kGltVZ-xREf_",
        "outputId": "484c1bd7-99be-4c37-c9f3-d5275c7c8782"
      },
      "execution_count": 3,
      "outputs": [
        {
          "output_type": "stream",
          "name": "stdout",
          "text": [
            "5\n"
          ]
        }
      ]
    },
    {
      "cell_type": "markdown",
      "source": [
        "2. Exercício de fixação\n",
        "Escreva uma função lambda que recebe dois valores numéricos como parâmetro.\n",
        "Some 5 sempre com o 1o valor. Depois, multiplique ambos e retorne o resultado."
      ],
      "metadata": {
        "id": "qCY6cy8lRMA3"
      }
    },
    {
      "cell_type": "code",
      "source": [
        "res = lambda x, y: (x + 5) * y\n",
        "print(res(2, 3))"
      ],
      "metadata": {
        "colab": {
          "base_uri": "https://localhost:8080/"
        },
        "id": "bg3LbChMRIYF",
        "outputId": "ddf29352-1958-4700-ee4d-b2b05b0271e6"
      },
      "execution_count": 4,
      "outputs": [
        {
          "output_type": "stream",
          "name": "stdout",
          "text": [
            "21\n"
          ]
        }
      ]
    }
  ]
}