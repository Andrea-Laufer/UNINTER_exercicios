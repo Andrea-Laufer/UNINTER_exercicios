{
  "nbformat": 4,
  "nbformat_minor": 0,
  "metadata": {
    "colab": {
      "provenance": [],
      "authorship_tag": "ABX9TyMhb8MHmt+QVZXz4sjijwoy",
      "include_colab_link": true
    },
    "kernelspec": {
      "name": "python3",
      "display_name": "Python 3"
    },
    "language_info": {
      "name": "python"
    }
  },
  "cells": [
    {
      "cell_type": "markdown",
      "metadata": {
        "id": "view-in-github",
        "colab_type": "text"
      },
      "source": [
        "<a href=\"https://colab.research.google.com/github/Andrea-Laufer/UNINTER_exercicios/blob/main/Retorno_Valores_Fun%C3%A7%C3%B5es.ipynb\" target=\"_parent\"><img src=\"https://colab.research.google.com/assets/colab-badge.svg\" alt=\"Open In Colab\"/></a>"
      ]
    },
    {
      "cell_type": "markdown",
      "source": [
        "1. Retorno de Valores em Funções"
      ],
      "metadata": {
        "id": "mM7ciwVOBCUR"
      }
    },
    {
      "cell_type": "code",
      "source": [
        "def soma3 (x=0, y=0, z=0):\n",
        "  res = x  + y + z\n",
        "  return res\n",
        "\n",
        "\n",
        "# programa principal\n",
        "retornado = soma3(1,2,3)\n",
        "print(retornado)\n",
        "\n",
        "# ou\n",
        "\n",
        "print(soma3(1,2,3))"
      ],
      "metadata": {
        "colab": {
          "base_uri": "https://localhost:8080/"
        },
        "id": "SWlmqaUvBHYY",
        "outputId": "c19fc82a-e219-4f54-d09a-a79ffc0d2843"
      },
      "execution_count": 2,
      "outputs": [
        {
          "output_type": "stream",
          "name": "stdout",
          "text": [
            "6\n",
            "6\n"
          ]
        }
      ]
    },
    {
      "cell_type": "code",
      "source": [
        "retornado1 = soma3(1,2,3)\n",
        "retornado2 = soma3(1,2)\n",
        "retornado3 = soma3(1)\n",
        "retornado4 = soma3()\n",
        "\n",
        "print(f' Somatórios: {retornado1}, {retornado2}, {retornado3}, {retornado4}')"
      ],
      "metadata": {
        "colab": {
          "base_uri": "https://localhost:8080/"
        },
        "id": "n2XO5MhVDFXd",
        "outputId": "0c0d0760-6b6a-43ee-bf04-e0abf30527ae"
      },
      "execution_count": 4,
      "outputs": [
        {
          "output_type": "stream",
          "name": "stdout",
          "text": [
            " Somatórios: 6, 3, 1, 0\n"
          ]
        }
      ]
    },
    {
      "cell_type": "markdown",
      "source": [
        "2. Exercícios Fixação\n",
        "Escreva uma função para validar uma string. Essa função recebe como parâmetro\n",
        "a string, o número mínimo e máximo de caracteres.\n",
        "Retorne verdadeiro se o tamanho da string estiver entre os valores de mínimo e\n",
        "máximo. E falso, caso contrário."
      ],
      "metadata": {
        "id": "GGirY4JSDxdM"
      }
    },
    {
      "cell_type": "code",
      "source": [
        "def valida_string (pergunta, min, max):\n",
        "  s1 = input(pergunta)\n",
        "  tam = len(s1)\n",
        "  while ((tam < min) or (tam > max)):\n",
        "    s1 = input(pergunta)\n",
        "    tam = len(s1)\n",
        "  return s1\n",
        "\n",
        "# programa principal\n",
        "x = valida_string ('Digite uma string:' , 10, 30)\n",
        "print('Você digitou: {} \\n Dado válido, encerrando o programa'.format(x))"
      ],
      "metadata": {
        "colab": {
          "base_uri": "https://localhost:8080/"
        },
        "id": "nA-jlGOQDuJx",
        "outputId": "e94e5907-074f-4042-ca52-befbfe18b9f7"
      },
      "execution_count": 16,
      "outputs": [
        {
          "output_type": "stream",
          "name": "stdout",
          "text": [
            "Digite uma string:bbbbbbbbb\n",
            "Digite uma string:bbbbbbbbbb\n",
            "Você digitou: bbbbbbbbbb \n",
            " Dado válido, encerrando o programa\n"
          ]
        }
      ]
    }
  ]
}