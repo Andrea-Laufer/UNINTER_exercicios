{
  "nbformat": 4,
  "nbformat_minor": 0,
  "metadata": {
    "colab": {
      "provenance": [],
      "authorship_tag": "ABX9TyO0dGuyU1i6Rof3aicEdl/l",
      "include_colab_link": true
    },
    "kernelspec": {
      "name": "python3",
      "display_name": "Python 3"
    },
    "language_info": {
      "name": "python"
    }
  },
  "cells": [
    {
      "cell_type": "markdown",
      "metadata": {
        "id": "view-in-github",
        "colab_type": "text"
      },
      "source": [
        "<a href=\"https://colab.research.google.com/github/Andrea-Laufer/UNINTER_exercicios/blob/main/Listas.ipynb\" target=\"_parent\"><img src=\"https://colab.research.google.com/assets/colab-badge.svg\" alt=\"Open In Colab\"/></a>"
      ]
    },
    {
      "cell_type": "markdown",
      "source": [
        "1. Listas"
      ],
      "metadata": {
        "id": "nKf4M7nrIwvz"
      }
    },
    {
      "cell_type": "code",
      "execution_count": 2,
      "metadata": {
        "colab": {
          "base_uri": "https://localhost:8080/"
        },
        "id": "xH4Kn5s6Iu_o",
        "outputId": "3fbb5000-8527-4870-9dc8-d1d5ec4d5988"
      },
      "outputs": [
        {
          "output_type": "stream",
          "name": "stdout",
          "text": [
            "Tupla: ['caderno', 'celular', 'lápis', 'borracha']\n",
            "Lista: ['caderno', 'celular', 'lápis', 'borracha']\n"
          ]
        }
      ],
      "source": [
        "# Diferença entre Tupla e Lista\n",
        "# Tupla imutável x Lista mutável\n",
        "\n",
        "mochila = ('caderno', 'celular', 'lápis', 'borracha') # Tupla\n",
        "mochila = ['caderno', 'celular', 'lápis', 'borracha'] # Lista\n",
        "\n",
        "print('Tupla:' , mochila)\n",
        "print('Lista:' , mochila)"
      ]
    },
    {
      "cell_type": "code",
      "source": [
        "# Substituir item na lista mochila\n",
        "\n",
        "mochila[2] = 'caneta'\n",
        "print(mochila)"
      ],
      "metadata": {
        "colab": {
          "base_uri": "https://localhost:8080/"
        },
        "id": "QqTeQKfHKBGF",
        "outputId": "ba42ccf9-c9bd-4549-8de8-0c85847e9adf"
      },
      "execution_count": 3,
      "outputs": [
        {
          "output_type": "stream",
          "name": "stdout",
          "text": [
            "['caderno', 'celular', 'caneta', 'borracha']\n"
          ]
        }
      ]
    },
    {
      "cell_type": "markdown",
      "source": [
        "2. Manipulando listas"
      ],
      "metadata": {
        "id": "iiRFj_HzKyIE"
      }
    },
    {
      "cell_type": "code",
      "source": [
        "mochila = ['caderno', 'celular', 'lápis', 'borracha'] # Lista\n",
        "\n",
        "\n",
        "mochila.append('caneta') # append = adiciona item ao final da lista\n",
        "print(f'Lista:' , mochila)\n",
        "\n",
        "mochila.insert(1, 'régua') # insert = adiciona item em qualquer posição da lista\n",
        "print(f'Lista:' , mochila)\n",
        "\n",
        "\n",
        "del mochila[1] # deleta o item do índice da lista\n",
        "print(f'Lista:' , mochila)\n",
        "\n",
        "mochila.remove('borracha') # remove = deleta o item da lista\n",
        "print(f'Lista:' , mochila)\n"
      ],
      "metadata": {
        "colab": {
          "base_uri": "https://localhost:8080/"
        },
        "id": "K4f8Ocs4K1CK",
        "outputId": "e49416c8-fd9f-47dc-b188-401df50a172c"
      },
      "execution_count": 11,
      "outputs": [
        {
          "output_type": "stream",
          "name": "stdout",
          "text": [
            "Lista: ['caderno', 'celular', 'lápis', 'borracha', 'caneta']\n",
            "Lista: ['caderno', 'régua', 'celular', 'lápis', 'borracha', 'caneta']\n",
            "Lista: ['caderno', 'celular', 'lápis', 'borracha', 'caneta']\n",
            "Lista: ['caderno', 'celular', 'lápis', 'caneta']\n"
          ]
        }
      ]
    },
    {
      "cell_type": "code",
      "source": [
        "# cópia de lista = usar [:] para preservar a lista originária em caso de alteração\n",
        "# de elementos na lista referencial (ou derivada)\n",
        "\n",
        "lista_original = [1, 2, 3, 4, 5]\n",
        "lista_referenciada = lista_original [:]\n",
        "\n",
        "print(lista_original)\n",
        "print(lista_referenciada)\n",
        "\n",
        "lista_referenciada[0] = 6\n",
        "print(lista_original)\n",
        "print(lista_referenciada)"
      ],
      "metadata": {
        "colab": {
          "base_uri": "https://localhost:8080/"
        },
        "id": "sBGSUkpIMDyE",
        "outputId": "b37c6dd2-7890-450b-dc7d-237ae6cd95c7"
      },
      "execution_count": 12,
      "outputs": [
        {
          "output_type": "stream",
          "name": "stdout",
          "text": [
            "[1, 2, 3, 4, 5]\n",
            "[1, 2, 3, 4, 5]\n",
            "[1, 2, 3, 4, 5]\n",
            "[6, 2, 3, 4, 5]\n"
          ]
        }
      ]
    },
    {
      "cell_type": "markdown",
      "source": [
        "3. Strings e listas dentro de listas"
      ],
      "metadata": {
        "id": "3pCPdS62Osjc"
      }
    },
    {
      "cell_type": "code",
      "source": [
        "mochila = ['caderno', 'celular', 'lápis', 'borracha'] # Lista\n",
        "\n",
        "# acessando item da lista e subitem (ou seja caractere do item que está na lista)\n",
        "\n",
        "print(mochila[0])\n",
        "print(mochila[0][0])\n",
        "print(mochila[1][0])\n",
        "print(mochila[2][0])\n",
        "print(mochila[3][0])\n",
        "\n"
      ],
      "metadata": {
        "colab": {
          "base_uri": "https://localhost:8080/"
        },
        "id": "wmPgft9_Nc2D",
        "outputId": "e8466608-2aaf-4c85-e5c1-3ae5e1432b10"
      },
      "execution_count": 14,
      "outputs": [
        {
          "output_type": "stream",
          "name": "stdout",
          "text": [
            "caderno\n",
            "c\n",
            "c\n",
            "l\n",
            "b\n"
          ]
        }
      ]
    },
    {
      "cell_type": "code",
      "source": [
        "mochila = ['caderno', 'celular', 'lápis', 'borracha'] # Lista\n",
        "\n",
        "# acessando item da lista e subitem com uso de for\n",
        "\n",
        "for item in mochila:\n",
        "    print(item)\n",
        "    for caractere in item:\n",
        "        print(caractere)\n",
        "\n",
        "for item in mochila:\n",
        "  for letra in item:\n",
        "    print(letra, end='')\n",
        "  print('')\n",
        "\n"
      ],
      "metadata": {
        "colab": {
          "base_uri": "https://localhost:8080/"
        },
        "id": "q5-6uCUdP223",
        "outputId": "c2294f64-8a7d-4865-a72e-82b67474b434"
      },
      "execution_count": 20,
      "outputs": [
        {
          "output_type": "stream",
          "name": "stdout",
          "text": [
            "caderno\n",
            "c\n",
            "a\n",
            "d\n",
            "e\n",
            "r\n",
            "n\n",
            "o\n",
            "celular\n",
            "c\n",
            "e\n",
            "l\n",
            "u\n",
            "l\n",
            "a\n",
            "r\n",
            "lápis\n",
            "l\n",
            "á\n",
            "p\n",
            "i\n",
            "s\n",
            "borracha\n",
            "b\n",
            "o\n",
            "r\n",
            "r\n",
            "a\n",
            "c\n",
            "h\n",
            "a\n",
            "caderno\n",
            "celular\n",
            "lápis\n",
            "borracha\n"
          ]
        }
      ]
    },
    {
      "cell_type": "code",
      "source": [
        "mochila = ['caderno', 'celular', 'lápis', 'borracha'] # Lista\n",
        "\n",
        "# acessando item da lista e subitem com uso de for e range\n",
        "\n",
        "for i in range (0, len(mochila), 1):\n",
        "  for j in range (0, len(mochila[i]), 1):\n",
        "    print(mochila[i][j], end='')\n",
        "  print('')"
      ],
      "metadata": {
        "colab": {
          "base_uri": "https://localhost:8080/"
        },
        "id": "IL-v3b2wRUmX",
        "outputId": "b66e155b-c0c3-456e-cfa7-9f343ca7dd28"
      },
      "execution_count": 21,
      "outputs": [
        {
          "output_type": "stream",
          "name": "stdout",
          "text": [
            "caderno\n",
            "celular\n",
            "lápis\n",
            "borracha\n"
          ]
        }
      ]
    },
    {
      "cell_type": "code",
      "source": [
        "# Cadastrar lista de compras em um sistema com nome, quantidade e valor\n",
        "# lista para 3 produtos\n",
        "\n",
        "item = []\n",
        "mercado = []\n",
        "\n",
        "for i in range(3):\n",
        "  item.append(input('Digite o nome do item: '))\n",
        "  item.append(int(input('Digite a quantidade do item: ')))\n",
        "  item.append(float(input('Digite o valor do item: ')))\n",
        "  mercado.append(item[:])\n",
        "  item.clear()\n",
        "\n",
        "print(mercado)\n"
      ],
      "metadata": {
        "colab": {
          "base_uri": "https://localhost:8080/"
        },
        "id": "9GG7MLkjSb71",
        "outputId": "048282c2-4bb0-447b-d557-095c1ca5762d"
      },
      "execution_count": 22,
      "outputs": [
        {
          "output_type": "stream",
          "name": "stdout",
          "text": [
            "Digite o nome do item: Leite\n",
            "Digite a quantidade do item: 1\n",
            "Digite o valor do item: 5.40\n",
            "Digite o nome do item: Chocolate\n",
            "Digite a quantidade do item: 2\n",
            "Digite o valor do item: 7.40\n",
            "Digite o nome do item: Morango\n",
            "Digite a quantidade do item: 1\n",
            "Digite o valor do item: 6\n",
            "[['Leite', 1, 5.4], ['Chocolate', 2, 7.4], ['Morango', 1, 6.0]]\n"
          ]
        }
      ]
    },
    {
      "cell_type": "code",
      "source": [
        "# Cadastrar lista de compras em um sistema com nome, quantidade e valor\n",
        "# lista para 3 produtos\n",
        "\n",
        "mercado = []\n",
        "\n",
        "for i in range(3):\n",
        "  nome = (input('Digite o nome do item: '))\n",
        "  quantidade = (int(input('Digite a quantidade do item: ')))\n",
        "  valor = (float(input('Digite o valor do item: ')))\n",
        "  mercado.append([nome, quantidade, valor])\n",
        "print(mercado)\n",
        "\n",
        "\n",
        "# Cadastrar lista de compras em um sistema com nome, quantidade e valor\n",
        "# lista para 3 produtos\n",
        "# somar\n",
        "\n",
        "soma = 0\n",
        "print('Lista de Compras: ')\n",
        "print('-' * 20)\n",
        "# Cadastrar lista de compras em um sistema com nome, quantidade e valor\n",
        "# lista para 3 produtos\n",
        "\n",
        "mercado = []\n",
        "\n",
        "for i in range(3):\n",
        "  nome = (input('Digite o nome do item: '))\n",
        "  quantidade = (int(input('Digite a quantidade do item: ')))\n",
        "  valor = (float(input('Digite o valor do item: ')))\n",
        "# Cadastrar lista de compras em um sistema com nome, quantidade e valor\n",
        "# lista para 3 produtos\n",
        "\n",
        "mercado = []\n",
        "\n",
        "for i in range(3):\n",
        "  nome = (input('Digite o nome do item: '))\n",
        "  quantidade = (int(input('Digite a quantidade do item: ')))\n",
        "  valor = (float(input('Digite o valor do item: ')))\n",
        "  mercado.append([nome, quantidade, valor])\n",
        "print(mercado)\n",
        "\n",
        "\n",
        "# Cadastrar lista de compras em um sistema com nome, quantidade e valor\n",
        "# lista para 3 produtos\n",
        "# somar\n",
        "\n",
        "soma = 0\n",
        "print('Lista de Compras: ')\n",
        "print('-' * 20)\n",
        "# Cadastrar lista de compras em um sistema com nome, quantidade e valor\n",
        "# lista para 3 produtos\n",
        "\n",
        "mercado = []\n",
        "\n",
        "for i in range(3):\n",
        "  nome = (input('Digite o nome do item: '))\n",
        "  quantidade = (int(input('Digite a quantidade do item: ')))\n",
        "  valor = (float(input('Digite o valor do item: ')))\n",
        "  mercado.append([nome, quantidade, valor])\n",
        "print(mercado)\n",
        "\n",
        "\n",
        "\n"
      ],
      "metadata": {
        "colab": {
          "base_uri": "https://localhost:8080/"
        },
        "id": "K8Fbtl8zVgh9",
        "outputId": "b6de1603-2403-4e3d-8c03-7c421c6557ab"
      },
      "execution_count": null,
      "outputs": [
        {
          "output_type": "stream",
          "name": "stdout",
          "text": [
            "Digite o nome do item: Maçã\n",
            "Digite a quantidade do item: 3\n",
            "Digite o valor do item: 10.40\n",
            "Digite o nome do item: Pera\n",
            "Digite a quantidade do item: 5\n",
            "Digite o valor do item: 14.50\n",
            "Digite o nome do item: Chocolate\n",
            "Digite a quantidade do item: 2\n",
            "Digite o valor do item: 7.45\n",
            "[['Maçã', 3, 10.4], ['Pera', 5, 14.5], ['Chocolate', 2, 7.45]]\n",
            "Lista de Compras: \n",
            "--------------------\n"
          ]
        }
      ]
    },
    {
      "cell_type": "code",
      "source": [
        "# Cadastrar lista de compras em um sistema com nome, quantidade e valor\n",
        "# lista para 3 produtos\n",
        "# somar\n",
        "\n",
        "soma = 0\n",
        "print('Lista de Compras: ')\n",
        "print('-' * 20)\n",
        "print('Item | Quantidade | Valor do Item | Total do Item')\n",
        "for item in mercado:\n",
        "  print(f'{item[0]} | {item[1]} | {item[2]} | {item[1] * item[2]}')\n",
        "  soma += item[1] * item[2]\n",
        "print('-' * 20)\n",
        "print(f'Total da Compra: R$ {soma}')\n",
        "\n"
      ],
      "metadata": {
        "id": "O74sqWqAWaRE"
      },
      "execution_count": null,
      "outputs": []
    }
  ]
}